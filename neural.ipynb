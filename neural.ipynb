{
  "nbformat": 4,
  "nbformat_minor": 0,
  "metadata": {
    "colab": {
      "name": "neural.ipynb",
      "provenance": [],
      "collapsed_sections": [],
      "mount_file_id": "10MlGrYsVpWX84cc8QaOuUXb33R-npmRh",
      "authorship_tag": "ABX9TyO6RUzJa2IGbHewGvpFDKwv"
    },
    "kernelspec": {
      "name": "python3",
      "display_name": "Python 3"
    }
  },
  "cells": [
    {
      "cell_type": "code",
      "metadata": {
        "id": "ALIPGnYZ0YEz"
      },
      "source": [
        "import matplotlib.pyplot as plt\r\n",
        "import matplotlib as mpl\r\n",
        "\r\n",
        "import numpy as np\r\n",
        "from PIL import Image\r\n",
        "import time\r\n",
        "import functools\r\n",
        "\r\n",
        "%tensorflow_version 1.x\r\n",
        "import tensorflow as tf\r\n",
        "\r\n",
        "from tensorflow.python.keras.preprocessing import image as kp_image\r\n",
        "from tensorflow.python.keras import models \r\n",
        "from tensorflow.python.keras import losses\r\n",
        "from tensorflow.python.keras import layers\r\n",
        "from tensorflow.python.keras import backend as K\r\n",
        "\r\n",
        "#enabling eager execution at startup\r\n",
        "tf.enable_eager_execution()"
      ],
      "execution_count": null,
      "outputs": []
    },
    {
      "cell_type": "code",
      "metadata": {
        "id": "8oTGjY27MQZ5"
      },
      "source": [
        "#checking if EE is enabled\r\n",
        "tf.executing_eagerly()"
      ],
      "execution_count": null,
      "outputs": []
    },
    {
      "cell_type": "code",
      "metadata": {
        "id": "sdiXjP3qRxQn"
      },
      "source": [
        "# content_path = Image.open('/content/drive/MyDrive/Tensorflow-neural/building.jpg')\r\n",
        "# style_path = Image.open('/content/drive/MyDrive/Tensorflow-neural/shipwreck.jpg')\r\n",
        "\r\n",
        "\r\n",
        "\r\n",
        "#setting up parameters for displaying the restructured images \r\n",
        "mpl.rcParams['figure.figsize'] = (10,10)\r\n",
        "mpl.rcParams['axes.grid'] = False\r\n"
      ],
      "execution_count": null,
      "outputs": []
    },
    {
      "cell_type": "code",
      "metadata": {
        "id": "9np6man_6Jt_"
      },
      "source": [
        "def load_img(path_to_img):\r\n",
        "  max_dim = 512\r\n",
        "  img = Image.open(path_to_img)\r\n",
        "  long = max(img.size)\r\n",
        "  scale = max_dim/long\r\n",
        "  img = img.resize((round(img.size[0]*scale), round(img.size[1]*scale)), Image.ANTIALIAS)\r\n",
        "  \r\n",
        "  img = kp_image.img_to_array(img)\r\n",
        "  \r\n",
        "  # We need to broadcast the image array such that it has a batch dimension \r\n",
        "  img = np.expand_dims(img, axis=0)\r\n",
        "  return img"
      ],
      "execution_count": null,
      "outputs": []
    },
    {
      "cell_type": "code",
      "metadata": {
        "id": "zwtynsZC6JeZ"
      },
      "source": [
        "def imshow(img, title=None):\r\n",
        "  # Remove the batch dimension\r\n",
        "  out = np.squeeze(img, axis=0)\r\n",
        "  # Normalize for display \r\n",
        "  out = out.astype('uint8')\r\n",
        "  plt.imshow(out)\r\n",
        "  if title is not None:\r\n",
        "    plt.title(title)\r\n",
        "  plt.imshow(out)"
      ],
      "execution_count": null,
      "outputs": []
    },
    {
      "cell_type": "code",
      "metadata": {
        "id": "J4zSobr68Nu1"
      },
      "source": [
        "plt.figure(figsize=(10,10))\r\n",
        "\r\n",
        "content = load_img(content_path).astype('uint8')\r\n",
        "style = load_img(style_path).astype('uint8')\r\n",
        "\r\n",
        "plt.subplot(1, 2, 1)\r\n",
        "imshow(content, 'Content Image')\r\n",
        "\r\n",
        "plt.subplot(1, 2, 2)\r\n",
        "imshow(style, 'Style Image')\r\n",
        "plt.show()"
      ],
      "execution_count": null,
      "outputs": []
    },
    {
      "cell_type": "code",
      "metadata": {
        "id": "RrCbrx-6Wtgv"
      },
      "source": [
        "def load_and_process_img(path_to_img):\r\n",
        "  img = load_img(path_to_img)\r\n",
        "  img = tf.keras.applications.vgg19.preprocess_input(img)\r\n",
        "  return img"
      ],
      "execution_count": null,
      "outputs": []
    },
    {
      "cell_type": "code",
      "metadata": {
        "id": "Blng6rmXj_ma"
      },
      "source": [
        "def deprocess_img(processed_img):\r\n",
        "  x = processed_img.copy()\r\n",
        "  if len(x.shape) == 4:\r\n",
        "    x = np.squeeze(x, 0)\r\n",
        "  assert len(x.shape) == 3, (\"Input to deprocess image must be an image of \"\r\n",
        "                             \"dimension [1, height, width, channel] or [height, width, channel]\")\r\n",
        "  if len(x.shape) != 3:\r\n",
        "    raise ValueError(\"Invalid input to deprocessing image\")\r\n",
        "  \r\n",
        "  # perform the inverse of the preprocessing step\r\n",
        "  x[:, :, 0] += 103.939\r\n",
        "  x[:, :, 1] += 116.779\r\n",
        "  x[:, :, 2] += 123.68\r\n",
        "  x = x[:, :, ::-1]\r\n",
        "\r\n",
        "  x = np.clip(x, 0, 255).astype('uint8')\r\n",
        "  return x"
      ],
      "execution_count": null,
      "outputs": []
    },
    {
      "cell_type": "code",
      "metadata": {
        "id": "B5qC3s0ykACi"
      },
      "source": [
        "# Content layer where will pull our feature maps\r\n",
        "content_layers = ['block5_conv2'] \r\n",
        "\r\n",
        "# Style layer we are interested in\r\n",
        "style_layers = ['block1_conv1','block2_conv1','block3_conv1','block4_conv1','block5_conv1']\r\n",
        "\r\n",
        "num_content_layers = len(content_layers)\r\n",
        "num_style_layers = len(style_layers)"
      ],
      "execution_count": null,
      "outputs": []
    },
    {
      "cell_type": "code",
      "metadata": {
        "id": "JKn5nq91t14R"
      },
      "source": [
        "def get_model():\r\n",
        "  \"\"\" Creates our model with access to intermediate layers. \r\n",
        "  \r\n",
        "  This function will load the VGG19 model and access the intermediate layers. \r\n",
        "  These layers will then be used to create a new model that will take input image\r\n",
        "  and return the outputs from these intermediate layers from the VGG model. \r\n",
        "  \r\n",
        "  Returns:\r\n",
        "    returns a keras model that takes image inputs and outputs the style and \r\n",
        "      content intermediate layers. \r\n",
        "  \"\"\"\r\n",
        "  # Load our model. We load pretrained VGG, trained on imagenet data\r\n",
        "  vgg = tf.keras.applications.vgg19.VGG19(include_top=False, weights='imagenet')\r\n",
        "  vgg.trainable = False\r\n",
        "  # Get output layers corresponding to style and content layers \r\n",
        "  style_outputs = [vgg.get_layer(name).output for name in style_layers]\r\n",
        "  content_outputs = [vgg.get_layer(name).output for name in content_layers]\r\n",
        "  model_outputs = style_outputs + content_outputs\r\n",
        "  # Build model \r\n",
        "  return models.Model(vgg.input, model_outputs)"
      ],
      "execution_count": null,
      "outputs": []
    },
    {
      "cell_type": "code",
      "metadata": {
        "id": "JKZzDgIiuih7"
      },
      "source": [
        "def get_content_loss(base_content, target):\r\n",
        "  return tf.reduce_mean(tf.square(base_content - target))"
      ],
      "execution_count": null,
      "outputs": []
    },
    {
      "cell_type": "code",
      "metadata": {
        "id": "p-R0ibKBuk71"
      },
      "source": [
        "def gram_matrix(input_tensor):\r\n",
        "  # We make the image channels first \r\n",
        "  channels = int(input_tensor.shape[-1])\r\n",
        "  a = tf.reshape(input_tensor, [-1, channels])\r\n",
        "  n = tf.shape(a)[0]\r\n",
        "  gram = tf.matmul(a, a, transpose_a=True)\r\n",
        "  return gram / tf.cast(n, tf.float32)\r\n",
        "\r\n",
        "def get_style_loss(base_style, gram_target):\r\n",
        "  \"\"\"Expects two images of dimension h, w, c\"\"\"\r\n",
        "  # height, width, num filters of each layer\r\n",
        "  # We scale the loss at a given layer by the size of the feature map and the number of filters\r\n",
        "  height, width, channels = base_style.get_shape().as_list()\r\n",
        "  gram_style = gram_matrix(base_style)\r\n",
        "  \r\n",
        "  return tf.reduce_mean(tf.square(gram_style - gram_target))# / (4. * (channels ** 2) * (width * height) ** 2)"
      ],
      "execution_count": null,
      "outputs": []
    },
    {
      "cell_type": "code",
      "metadata": {
        "id": "PWh9JxtjuqXX"
      },
      "source": [
        "def get_feature_representations(model, content_path, style_path):\r\n",
        "\r\n",
        "  # Load our images in \r\n",
        "  content_image = load_and_process_img(content_path)\r\n",
        "  style_image = load_and_process_img(style_path)\r\n",
        "  \r\n",
        "  # batch compute content and style features\r\n",
        "  style_outputs = model(style_image)\r\n",
        "  content_outputs = model(content_image)\r\n",
        "  \r\n",
        "  \r\n",
        "  # Get the style and content feature representations from our model  \r\n",
        "  style_features = [style_layer[0] for style_layer in style_outputs[:num_style_layers]]\r\n",
        "  content_features = [content_layer[0] for content_layer in content_outputs[num_style_layers:]]\r\n",
        "  return style_features, content_features"
      ],
      "execution_count": null,
      "outputs": []
    },
    {
      "cell_type": "code",
      "metadata": {
        "id": "Vfnx0Uj6uwhT"
      },
      "source": [
        "def compute_loss(model, loss_weights, init_image, gram_style_features, content_features):\r\n",
        "  \"\"\"This function will compute the loss total loss.\r\n",
        "  \r\n",
        "  Arguments:\r\n",
        "    model: The model that will give us access to the intermediate layers\r\n",
        "    loss_weights: The weights of each contribution of each loss function. \r\n",
        "      (style weight, content weight, and total variation weight)\r\n",
        "    init_image: Our initial base image. This image is what we are updating with \r\n",
        "      our optimization process. We apply the gradients wrt the loss we are \r\n",
        "      calculating to this image.\r\n",
        "    gram_style_features: Precomputed gram matrices corresponding to the \r\n",
        "      defined style layers of interest.\r\n",
        "    content_features: Precomputed outputs from defined content layers of \r\n",
        "      interest.\r\n",
        "      \r\n",
        "  Returns:\r\n",
        "    returns the total loss, style loss, content loss, and total variational loss\r\n",
        "  \"\"\"\r\n",
        "  style_weight, content_weight = loss_weights\r\n",
        "  \r\n",
        "  # Feed our init image through our model. This will give us the content and \r\n",
        "  # style representations at our desired layers. Since we're using eager\r\n",
        "  # our model is callable just like any other function!\r\n",
        "  model_outputs = model(init_image)\r\n",
        "  \r\n",
        "  style_output_features = model_outputs[:num_style_layers]\r\n",
        "  content_output_features = model_outputs[num_style_layers:]\r\n",
        "  \r\n",
        "  style_score = 0\r\n",
        "  content_score = 0\r\n",
        "\r\n",
        "  # Accumulate style losses from all layers\r\n",
        "  # Here, we equally weight each contribution of each loss layer\r\n",
        "  weight_per_style_layer = 1.0 / float(num_style_layers)\r\n",
        "  for target_style, comb_style in zip(gram_style_features, style_output_features):\r\n",
        "    style_score += weight_per_style_layer * get_style_loss(comb_style[0], target_style)\r\n",
        "    \r\n",
        "  # Accumulate content losses from all layers \r\n",
        "  weight_per_content_layer = 1.0 / float(num_content_layers)\r\n",
        "  for target_content, comb_content in zip(content_features, content_output_features):\r\n",
        "    content_score += weight_per_content_layer* get_content_loss(comb_content[0], target_content)\r\n",
        "  \r\n",
        "  style_score *= style_weight\r\n",
        "  content_score *= content_weight\r\n",
        "\r\n",
        "  # Get total loss\r\n",
        "  loss = style_score + content_score \r\n",
        "  return loss, style_score, content_score"
      ],
      "execution_count": null,
      "outputs": []
    },
    {
      "cell_type": "code",
      "metadata": {
        "id": "zLlzRMsYuybt"
      },
      "source": [
        "def compute_grads(cfg):\r\n",
        "  with tf.GradientTape() as tape: \r\n",
        "    all_loss = compute_loss(**cfg)\r\n",
        "  # Compute gradients wrt input image\r\n",
        "  total_loss = all_loss[0]\r\n",
        "  return tape.gradient(total_loss, cfg['init_image']), all_loss"
      ],
      "execution_count": null,
      "outputs": []
    },
    {
      "cell_type": "code",
      "metadata": {
        "id": "uZ9lJWYNu1Gv"
      },
      "source": [
        "import IPython.display\r\n",
        "\r\n",
        "def run_style_transfer(content_path, \r\n",
        "                       style_path,\r\n",
        "                       num_iterations=1000,\r\n",
        "                       content_weight=1e3, \r\n",
        "                       style_weight=1e-2): \r\n",
        "  # We don't need to (or want to) train any layers of our model, so we set their\r\n",
        "  # trainable to false. \r\n",
        "  model = get_model() \r\n",
        "  for layer in model.layers:\r\n",
        "    layer.trainable = False\r\n",
        "  \r\n",
        "  # Get the style and content feature representations (from our specified intermediate layers) \r\n",
        "  style_features, content_features = get_feature_representations(model, content_path, style_path)\r\n",
        "  gram_style_features = [gram_matrix(style_feature) for style_feature in style_features]\r\n",
        "  \r\n",
        "  # Set initial image\r\n",
        "  init_image = load_and_process_img(content_path)\r\n",
        "  init_image = tf.Variable(init_image, dtype=tf.float32)\r\n",
        "  # Create our optimizer\r\n",
        "  opt = tf.train.AdamOptimizer(learning_rate=5, beta1=0.99, epsilon=1e-1)\r\n",
        "\r\n",
        "  # For displaying intermediate images \r\n",
        "  iter_count = 1\r\n",
        "  \r\n",
        "  # Store our best result\r\n",
        "  best_loss, best_img = float('inf'), None\r\n",
        "  \r\n",
        "  # Create a nice config \r\n",
        "  loss_weights = (style_weight, content_weight)\r\n",
        "  cfg = {\r\n",
        "      'model': model,\r\n",
        "      'loss_weights': loss_weights,\r\n",
        "      'init_image': init_image,\r\n",
        "      'gram_style_features': gram_style_features,\r\n",
        "      'content_features': content_features\r\n",
        "  }\r\n",
        "    \r\n",
        "  # For displaying\r\n",
        "  num_rows = 2\r\n",
        "  num_cols = 5\r\n",
        "  display_interval = num_iterations/(num_rows*num_cols)\r\n",
        "  start_time = time.time()\r\n",
        "  global_start = time.time()\r\n",
        "  \r\n",
        "  norm_means = np.array([103.939, 116.779, 123.68])\r\n",
        "  min_vals = -norm_means\r\n",
        "  max_vals = 255 - norm_means   \r\n",
        "  \r\n",
        "  imgs = []\r\n",
        "  for i in range(num_iterations):\r\n",
        "    grads, all_loss = compute_grads(cfg)\r\n",
        "    loss, style_score, content_score = all_loss\r\n",
        "    opt.apply_gradients([(grads, init_image)])\r\n",
        "    clipped = tf.clip_by_value(init_image, min_vals, max_vals)\r\n",
        "    init_image.assign(clipped)\r\n",
        "    end_time = time.time() \r\n",
        "    \r\n",
        "    if loss < best_loss:\r\n",
        "      # Update best loss and best image from total loss. \r\n",
        "      best_loss = loss\r\n",
        "      best_img = deprocess_img(init_image.numpy())\r\n",
        "\r\n",
        "    if i % display_interval== 0:\r\n",
        "      start_time = time.time()\r\n",
        "      \r\n",
        "      # Use the .numpy() method to get the concrete numpy array\r\n",
        "      plot_img = init_image.numpy()\r\n",
        "      plot_img = deprocess_img(plot_img)\r\n",
        "      imgs.append(plot_img)\r\n",
        "      IPython.display.clear_output(wait=True)\r\n",
        "      IPython.display.display_png(Image.fromarray(plot_img))\r\n",
        "      print('Iteration: {}'.format(i))        \r\n",
        "      print('Total loss: {:.4e}, ' \r\n",
        "            'style loss: {:.4e}, '\r\n",
        "            'content loss: {:.4e}, '\r\n",
        "            'time: {:.4f}s'.format(loss, style_score, content_score, time.time() - start_time))\r\n",
        "  print('Total time: {:.4f}s'.format(time.time() - global_start))\r\n",
        "  IPython.display.clear_output(wait=True)\r\n",
        "  plt.figure(figsize=(14,4))\r\n",
        "  for i,img in enumerate(imgs):\r\n",
        "      plt.subplot(num_rows,num_cols,i+1)\r\n",
        "      plt.imshow(img)\r\n",
        "      plt.xticks([])\r\n",
        "      plt.yticks([])\r\n",
        "      \r\n",
        "  return best_img, best_loss "
      ],
      "execution_count": null,
      "outputs": []
    },
    {
      "cell_type": "code",
      "metadata": {
        "id": "D5eoWVtSu3MW"
      },
      "source": [
        "best, best_loss = run_style_transfer(content_path, style_path, num_iterations=1000)"
      ],
      "execution_count": null,
      "outputs": []
    },
    {
      "cell_type": "code",
      "metadata": {
        "id": "WwHV6rxxvLDC"
      },
      "source": [
        "Image.fromarray(best)"
      ],
      "execution_count": null,
      "outputs": []
    }
  ]
}